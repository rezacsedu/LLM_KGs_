{
  "nbformat": 4,
  "nbformat_minor": 0,
  "metadata": {
    "colab": {
      "provenance": []
    },
    "kernelspec": {
      "name": "python3",
      "display_name": "Python 3"
    },
    "language_info": {
      "name": "python"
    }
  },
  "cells": [
    {
      "cell_type": "code",
      "execution_count": 33,
      "metadata": {
        "id": "tJ5OjKggHPLb"
      },
      "outputs": [],
      "source": [
        "!pip install -q langchain openai pyvis gradio newspaper3k"
      ]
    },
    {
      "cell_type": "code",
      "source": [
        "from langchain.prompts import PromptTemplate\n",
        "from langchain.llms.openai import OpenAI\n",
        "from langchain.chains import LLMChain\n",
        "from langchain.graphs.networkx_graph import KG_TRIPLE_DELIMITER\n",
        "from pprint import pprint\n",
        "from langchain.chat_models import ChatOpenAI\n",
        "from langchain.schema import HumanMessage"
      ],
      "metadata": {
        "id": "IZULrdXpHRLa"
      },
      "execution_count": 2,
      "outputs": []
    },
    {
      "cell_type": "code",
      "source": [
        "# import requests\n",
        "# from newspaper import Article\n",
        "\n",
        "# headers = {\n",
        "#     'User-Agent': 'Mozilla/5.0 (Windows NT 10.0; Win64; x64) AppleWebKit/537.36 (KHTML, like Gecko) Chrome/89.0.4389.82 Safari/537.36'\n",
        "# }\n",
        "\n",
        "# article_urls = \"https://www.artificialintelligence-news.com/2022/01/25/meta-claims-new-ai-supercomputer-will-set-records/\"\n",
        "\n",
        "# session = requests.Session()\n",
        "\n",
        "# try:\n",
        "#     response = session.get(article_urls, headers=headers, timeout=10)\n",
        "\n",
        "#     if response.status_code == 200:\n",
        "#         article = Article(article_urls)\n",
        "#         article.download()\n",
        "#         article.parse()\n",
        "\n",
        "#         print(f\"Title: {article.title}\")\n",
        "#         print(f\"Text: {article.text}\")\n",
        "\n",
        "#     else:\n",
        "#         print(f\"Failed to fetch article at {article_urls}\")\n",
        "# except Exception as e:\n",
        "#     print(f\"Error occurred while fetching article at {article_urls}: {e}\")"
      ],
      "metadata": {
        "id": "8afm1rqoHaYY"
      },
      "execution_count": 34,
      "outputs": []
    },
    {
      "cell_type": "code",
      "source": [
        "# load the model\n",
        "chat = ChatOpenAI(model_name=\"gpt-4\", api_key=\"..."\, temperature=0)"
      ],
      "metadata": {
        "id": "DnArJvEEWaCz"
      },
      "execution_count": 43,
      "outputs": []
    },
    {
      "cell_type": "code",
      "source": [
        "# we get the article data from the scraping part\n",
        "article_title = \"Scalable Semi-supervised Graph Learning Techniques for Anti Money Laundering\"\n",
        "article_text = \"Money laundering is the process where criminals move large sums of illicit money to hidden locations and disguise them as legal funds using financial services. The United Nations (UN) estimates 2 to 5% of global GDP, which is approx. 0.8 to 2.0 trillion dollars are laundered globally every year. Therefore, accurate identification of such globally alarming activities is crucial to enforce anti-money laundering (AML) measures. To date numerous techniques have been proposed to detect money laundering from a graph of money transfers between bank accounts by analyzing the structural and behavioural dynamics of its dense subgraphs, thereby not taking into consideration that money laundering involves high-volume flows of funds through chains of bank accounts. Some other approaches model the transactions in the form of multipartite graphs to detect the complete flow of money from source to destination. However, most of the existing methods result in lower detection accuracy or higher computational cost, making them less reliable and practical for real financial systems. As a consequence, the current AML approaches can only prevent and detect a fraction of money laundering activities could be prevented. In this paper, we propose an efficient approach to AML by employing semi-supervised graph learning techniques on a large-scale financial transactional graph in both pipeline and end-to-end settings to identify nodes that may be involved in potential money laundering. We evaluated our approach on four datasets: AMLSim, Elliptic, IBM AML, and SynthAML with a view to its scalability and practicality for real financial systems. Further, we provide global (e.g., what factors contribute more in money laundering scenarios) and local (e.g., how money gets laundered between nodes) explanations to improve the interpretability of the AML model. Experimental results suggest that our approach is scalable as well as effective at spotting money laundering in both real and synthetic transaction graphs\"\n",
        "\n",
        "# prepare template for prompt\n",
        "template_para = \"\"\"You are a very good assistant that summarizes online articles. Here's the article you want to summarize.\n",
        "    ==================\n",
        "    Title: {article_title}\n",
        "    Text: {article_text}\n",
        "    ==================\n",
        "    Write a summary of the previous article.\n",
        "\"\"\"\n",
        "\n",
        "prompt = template_para.format(article_title=article_title, article_text=article_text)\n",
        "\n",
        "messages = [HumanMessage(content=prompt)]\n",
        "\n",
        "# generate summary\n",
        "summary = chat(messages)\n",
        "print(summary.content)"
      ],
      "metadata": {
        "colab": {
          "base_uri": "https://localhost:8080/"
        },
        "id": "nKaK2uwwJUSm",
        "outputId": "9a1575d5-10da-4224-bb7b-dd73c8d5caae"
      },
      "execution_count": 41,
      "outputs": [
        {
          "output_type": "stream",
          "name": "stdout",
          "text": [
            "The article discusses the challenges in detecting money laundering activities, which the United Nations estimates to be between 0.8 to 2.0 trillion dollars globally every year. Traditional methods of detection, which analyze money transfers between bank accounts, often result in low accuracy or high computational costs. The article proposes a new approach using semi-supervised graph learning techniques on a large-scale financial transactional graph to identify potential money laundering activities. This method was tested on four datasets and proved to be scalable and effective. The model also provides explanations on global and local levels to improve its interpretability.\n"
          ]
        }
      ]
    },
    {
      "cell_type": "code",
      "source": [],
      "metadata": {
        "id": "Mqz1JjG3LDrc"
      },
      "execution_count": null,
      "outputs": []
    },
    {
      "cell_type": "code",
      "source": [
        "# prepare template for prompt\n",
        "template_bullet_list = \"\"\"You are an advanced AI assistant that summarizes online articles into bulleted lists. Here's the article you need to summarize.\n",
        "    ==================\n",
        "    Title: {article_title}\n",
        "    Text: {article_text}\n",
        "    ==================\n",
        "    Get me a summarized version of the article in a bulleted list format, please.\n",
        "\"\"\"\n",
        "\n",
        "# format prompt\n",
        "prompt = template_bullet_list.format(article_title=article_title, article_text=article_text)\n",
        "messages = [HumanMessage(content=prompt)]\n",
        "\n",
        "# generate summary\n",
        "summary = chat(messages)\n",
        "print(summary.content)"
      ],
      "metadata": {
        "colab": {
          "base_uri": "https://localhost:8080/"
        },
        "id": "-ugNQ2hpKKIH",
        "outputId": "140e8071-a5e7-41e6-8208-835fcd23441b"
      },
      "execution_count": 42,
      "outputs": [
        {
          "output_type": "stream",
          "name": "stdout",
          "text": [
            "- Money laundering involves criminals moving large sums of illicit money to hidden locations and disguising them as legal funds.\n",
            "- The United Nations estimates that 2 to 5% of global GDP, approximately 0.8 to 2.0 trillion dollars, are laundered globally every year.\n",
            "- Accurate identification of such activities is crucial to enforce anti-money laundering (AML) measures.\n",
            "- Existing techniques for detecting money laundering analyze the structural and behavioural dynamics of dense subgraphs in a graph of money transfers between bank accounts.\n",
            "- Some techniques model the transactions as multipartite graphs to detect the complete flow of money from source to destination.\n",
            "- Most existing methods result in lower detection accuracy or higher computational cost, making them less reliable and practical for real financial systems.\n",
            "- Current AML approaches can only prevent and detect a fraction of money laundering activities.\n",
            "- The paper proposes an efficient approach to AML by employing semi-supervised graph learning techniques on a large-scale financial transactional graph.\n",
            "- The approach is designed to identify nodes that may be involved in potential money laundering in both pipeline and end-to-end settings.\n",
            "- The approach was evaluated on four datasets: AMLSim, Elliptic, IBM AML, and SynthAML, demonstrating its scalability and practicality for real financial systems.\n",
            "- The paper also provides global and local explanations to improve the interpretability of the AML model.\n",
            "- Experimental results suggest that the proposed approach is scalable and effective at spotting money laundering in both real and synthetic transaction graphs.\n"
          ]
        }
      ]
    }
  ]
}
